{
 "cells": [
  {
   "cell_type": "code",
   "execution_count": 1,
   "id": "f257721e",
   "metadata": {},
   "outputs": [],
   "source": [
    "from selenium import webdriver\n",
    "from selenium.webdriver.chrome.service import Service\n",
    "from webdriver_manager.chrome import ChromeDriverManager\n",
    "from selenium.webdriver.common.by import By\n",
    "from pprint import pprint\n",
    "import time"
   ]
  },
  {
   "cell_type": "code",
   "execution_count": 2,
   "id": "ef2fedf4",
   "metadata": {},
   "outputs": [],
   "source": [
    "import re\n",
    "from datetime import datetime\n",
    "\n",
    "def process_game_price_data(data):\n",
    "    processed_data = data.copy()\n",
    "\n",
    "    # '원가'와 '할인가'를 정수형으로 변환\n",
    "    for key in ['원가', '할인가']:\n",
    "        if key in processed_data and isinstance(processed_data[key], str):\n",
    "            # '₩'와 ',' 제거\n",
    "            cleaned_value = re.sub(r'[₩,]', '', processed_data[key])\n",
    "            try:\n",
    "                processed_data[key] = int(cleaned_value)\n",
    "            except ValueError:\n",
    "                print(f\"경고: '{key}' 값을 정수로 변환할 수 없습니다: {processed_data[key]}\")\n",
    "                processed_data[key] = None\n",
    "\n",
    "    # '이전과 비교한 할인가격'을 부호가 붙은 정수형으로 변환\n",
    "    if '이전과 비교한 할인가격' in processed_data and isinstance(processed_data['이전과 비교한 할인가격'], str):\n",
    "        original_value = processed_data['이전과 비교한 할인가격']\n",
    "        sign = ''\n",
    "        cleaned_value_for_sign = original_value # 부호 추출을 위한 임시 변수\n",
    "\n",
    "        if cleaned_value_for_sign.startswith('+'):\n",
    "            sign = '+'\n",
    "            cleaned_value_for_sign = cleaned_value_for_sign[1:] # 부호 제외\n",
    "        elif cleaned_value_for_sign.startswith('-'):\n",
    "            sign = '-'\n",
    "            cleaned_value_for_sign = cleaned_value_for_sign[1:] # 부호 제외\n",
    "        \n",
    "        # '₩'와 ',' 제거\n",
    "        numeric_part = re.sub(r'[₩,]', '', cleaned_value_for_sign)\n",
    "        try:\n",
    "            # 부호와 숫자 부분을 합쳐 정수로 변환\n",
    "            processed_data['이전과 비교한 할인가격'] = int(sign + numeric_part)\n",
    "        except ValueError:\n",
    "            print(f\"경고: '이전과 비교한 할인가격' 값을 정수로 변환할 수 없습니다: {processed_data['이전과 비교한 할인가격']}\")\n",
    "            processed_data['이전과 비교한 할인가격'] = None\n",
    "\n",
    "    # '할인 시작 날짜'를 'YYYY-MM-DD' 형식으로 변환\n",
    "    if '할인 시작 날짜' in processed_data and isinstance(processed_data['할인 시작 날짜'], str):\n",
    "        try:\n",
    "            # 원본 날짜 형식에 맞게 파싱\n",
    "            date_obj = datetime.strptime(processed_data['할인 시작 날짜'], '%d %b %Y, %H:%M')\n",
    "            processed_data['할인 시작 날짜'] = date_obj.strftime('%Y-%m-%d')\n",
    "        except ValueError:\n",
    "            print(f\"경고: '할인 시작 날짜' 형식을 변환할 수 없습니다: {processed_data['할인 시작 날짜']}\")\n",
    "            processed_data['할인 시작 날짜'] = None\n",
    "    \n",
    "    return processed_data"
   ]
  },
  {
   "cell_type": "code",
   "execution_count": 3,
   "id": "53539569",
   "metadata": {},
   "outputs": [],
   "source": [
    "def history_log(game_name):\n",
    "    history_url = f\"https://isthereanydeal.com/game/{game_name}/history/\"\n",
    "    #print(history_url)\n",
    "\n",
    "    driver = webdriver.Chrome(service=Service(ChromeDriverManager().install())) #Chrome을 위한 webdriver install\n",
    "    driver.get(history_url)\n",
    "\n",
    "    \n",
    "    time.sleep(5)\n",
    "\n",
    "    #div 엘리먼트 선택해서 가져오기\n",
    "    game_log=list()\n",
    "    div_tags = driver.find_elements(By.CSS_SELECTOR,'div.entry.svelte-17mbxpf')\n",
    "    # print(len(div_tags))\n",
    "\n",
    "    for div_tag in div_tags :\n",
    "        time_tag = div_tag.find_elements(By.CSS_SELECTOR,'span.time.svelte-17mbxpf')\n",
    "        discount_date = time_tag[0].text\n",
    "\n",
    "        store_tag = div_tag.find_elements(By.CSS_SELECTOR,'span.svelte-zbwnbn')\n",
    "        store = store_tag[0].text\n",
    "\n",
    "        duration_tag = div_tag.find_elements(By.CSS_SELECTOR,'div.duration.svelte-17mbxpf')\n",
    "        duration = duration_tag[0].text\n",
    "\n",
    "        cut_tag = div_tag.find_elements(By.CSS_SELECTOR,'span.cut.svelte-17mbxpf')\n",
    "        cut = cut_tag[1].text\n",
    "\n",
    "        price_tag = div_tag.find_elements(By.CSS_SELECTOR,'div.price.svelte-17mbxpf div')\n",
    "        reg_price = price_tag[0].text\n",
    "        discount_price = price_tag[2].text\n",
    "        price_comp = price_tag[3].text\n",
    "\n",
    "        #log data를 이용한 dict만들기\n",
    "        log = {'할인 시작 날짜':discount_date, '플랫폼 이름': store,'할인 지속시간':duration,'할인율':cut,'원가':reg_price,'할인가':discount_price,'이전과 비교한 할인가격':price_comp}\n",
    "        processed_log=process_game_price_data(log)\n",
    "        # pprint(processed_log)\n",
    "\n",
    "        game_log.append(processed_log)\n",
    "\n",
    "    #5초로 waiting time 설정\n",
    "    time.sleep(5)\n",
    "    #driver 종료\n",
    "    driver.quit()\n",
    "    \n",
    "    return game_log\n",
    "    \n",
    "    "
   ]
  },
  {
   "cell_type": "code",
   "execution_count": null,
   "id": "33805606",
   "metadata": {},
   "outputs": [],
   "source": [
    "import os\n",
    "import json\n",
    "\n",
    "def save_json(data, game_name):\n",
    "    \"\"\"JSON 파일 저장 함수\"\"\"\n",
    "    os.makedirs('data_json', exist_ok=True)\n",
    "    filepath = f'data_json/{game_name}.json'\n",
    "    with open(filepath, 'w', encoding='utf-8') as f:\n",
    "        json.dump(data, f, ensure_ascii=False, indent=4)"
   ]
  },
  {
   "cell_type": "code",
   "execution_count": null,
   "id": "07e96337",
   "metadata": {},
   "outputs": [],
   "source": [
    "game_name = 'the-evil-within-2'\n",
    "game_log = history_log(game_name)\n",
    "print(game_log)\n",
    "save_json(game_log,game_name)"
   ]
  },
  {
   "cell_type": "code",
   "execution_count": null,
   "id": "3ae3d6f6",
   "metadata": {},
   "outputs": [],
   "source": [
    "import pandas as pd\n",
    "def jsonfile_to_csv(game_name):\n",
    "    gamelog_df = pd.read_json(f'data_json/{game_name}.json')\n",
    "    game_log.fillna('NoData',inplace = True)\n",
    "    os.makedirs('data/data_csv', exist_ok=True)\n",
    "    gamelog_df.to_csv(f'data_csv/{game_name}.csv', index=False)\n",
    "    return"
   ]
  },
  {
   "cell_type": "markdown",
   "id": "844cbf6d",
   "metadata": {},
   "source": [
    "## 리팩토링 코드"
   ]
  },
  {
   "cell_type": "code",
   "execution_count": 17,
   "id": "1828512a",
   "metadata": {},
   "outputs": [],
   "source": [
    "from selenium import webdriver\n",
    "from selenium.webdriver.chrome.service import Service\n",
    "from webdriver_manager.chrome import ChromeDriverManager\n",
    "from selenium.webdriver.common.by import By\n",
    "from selenium.common.exceptions import WebDriverException, NoSuchElementException\n",
    "from pprint import pprint\n",
    "import time\n",
    "import re\n",
    "from datetime import datetime\n",
    "import os\n",
    "import json\n",
    "import pandas as pd\n",
    "import plotly.express as px\n",
    "import plotly.graph_objects as go\n",
    "\n",
    "# (이전 코드와 동일하므로 생략)\n",
    "def process_game_price_data(data):\n",
    "    processed_data = data.copy()\n",
    "\n",
    "    # '원가'와 '할인가'를 정수형으로 변환\n",
    "    for key in ['원가', '할인가']:\n",
    "        if key in processed_data and isinstance(processed_data[key], str):\n",
    "            # '₩'와 ',' 제거\n",
    "            cleaned_value = re.sub(r'[₩,]', '', processed_data[key])\n",
    "            try:\n",
    "                processed_data[key] = int(cleaned_value)\n",
    "            except ValueError:\n",
    "                print(f\"경고: '{key}' 값을 정수로 변환할 수 없습니다: {processed_data[key]}\")\n",
    "                processed_data[key] = None\n",
    "\n",
    "    # '이전과 비교한 할인가격'을 부호가 붙은 정수형으로 변환\n",
    "    if '이전과 비교한 할인가격' in processed_data and isinstance(processed_data['이전과 비교한 할인가격'], str):\n",
    "        original_value = processed_data['이전과 비교한 할인가격']\n",
    "        sign = ''\n",
    "        cleaned_value_for_sign = original_value # 부호 추출을 위한 임시 변수\n",
    "\n",
    "        if cleaned_value_for_sign.startswith('+'):\n",
    "            sign = '+'\n",
    "            cleaned_value_for_sign = cleaned_value_for_sign[1:] # 부호 제외\n",
    "        elif cleaned_value_for_sign.startswith('-'):\n",
    "            sign = '-'\n",
    "            cleaned_value_for_sign = cleaned_value_for_sign[1:] # 부호 제외\n",
    "        \n",
    "        # '₩'와 ',' 제거\n",
    "        numeric_part = re.sub(r'[₩,]', '', cleaned_value_for_sign)\n",
    "        try:\n",
    "            # 부호와 숫자 부분을 합쳐 정수로 변환\n",
    "            processed_data['이전과 비교한 할인가격'] = int(sign + numeric_part)\n",
    "        except ValueError:\n",
    "            print(f\"경고: '이전과 비교한 할인가격' 값을 정수로 변환할 수 없습니다: {processed_data['이전과 비교한 할인가격']}\")\n",
    "            processed_data['이전과 비교한 할인가격'] = None\n",
    "\n",
    "    # '할인 시작 날짜'를 'YYYY-MM-DD' 형식으로 변환\n",
    "    if '할인 시작 날짜' in processed_data and isinstance(processed_data['할인 시작 날짜'], str):\n",
    "        try:\n",
    "            # 원본 날짜 형식에 맞게 파싱\n",
    "            date_obj = datetime.strptime(processed_data['할인 시작 날짜'], '%d %b %Y, %H:%M')\n",
    "            processed_data['할인 시작 날짜'] = date_obj.strftime('%Y-%m-%d')\n",
    "        except ValueError:\n",
    "            print(f\"경고: '할인 시작 날짜' 형식을 변환할 수 없습니다: {processed_data['할인 시작 날짜']}\")\n",
    "            processed_data['할인 시작 날짜'] = None\n",
    "    \n",
    "    return processed_data\n",
    "\n",
    "def history_log(game_name):\n",
    "    # 1. game_name 유효성 검사\n",
    "    if not game_name or not isinstance(game_name, str):\n",
    "        print(\"경고: 유효하지 않은 game_name이 입력되었습니다. 'nodata'를 반환합니다.\")\n",
    "        return 'nodata'\n",
    "\n",
    "    history_url = f\"https://isthereanydeal.com/game/{game_name}/history/\"\n",
    "    # print(history_url)\n",
    "\n",
    "    driver = None # 드라이버 초기화\n",
    "    try:\n",
    "        # Chrome 설정\n",
    "        options = webdriver.ChromeOptions()\n",
    "        options.add_argument('--headless')  # 창 안띄우기\n",
    "        options.add_argument('--no-sandbox')\n",
    "        options.add_argument('--disable-dev-shm-usage')\n",
    "\n",
    "        driver = webdriver.Chrome(service=Service(ChromeDriverManager().install()), options=options)\n",
    "        driver.get(history_url)\n",
    "\n",
    "        time.sleep(5) # 페이지 로드를 위한 대기\n",
    "\n",
    "        # 2. 'nodata' 상황 판단: 특정 요소가 존재하지 않는지 확인\n",
    "        # 'isthereanydeal.com'에서 게임이 없거나 페이지를 찾을 수 없을 때 나타나는 요소나 패턴을 확인합니다.\n",
    "        # 예를 들어, \"Page Not Found\" 텍스트나, 데이터가 없는 경우에만 나타나는 특정 div를 찾습니다.\n",
    "        # 여기서는 history-placeholder 클래스를 가진 div가 있는지 확인합니다.\n",
    "        try:\n",
    "            # 게임이 없을 경우 'There are currently no deals for this game.' 메시지를 포함하는\n",
    "            # div.history-placeholder 요소가 나타납니다.\n",
    "            placeholder_div = driver.find_element(By.CSS_SELECTOR, 'div.history-placeholder')\n",
    "            if \"no deals for this game\" in placeholder_div.text:\n",
    "                print(f\"'{game_name}'에 대한 거래 기록을 찾을 수 없습니다. 'nodata'를 반환합니다.\")\n",
    "                return 'nodata'\n",
    "        except NoSuchElementException:\n",
    "            # placeholder_div가 없으면, 게임 데이터가 있을 수 있다는 의미입니다. 계속 진행합니다.\n",
    "            pass\n",
    "        \n",
    "        # 실제 게임 로그 데이터를 담고 있는 div 요소들을 가져옵니다.\n",
    "        game_log = []\n",
    "        div_tags = driver.find_elements(By.CSS_SELECTOR, 'div.entry.svelte-17mbxpf')\n",
    "\n",
    "        if not div_tags: # div_tags가 비어있으면, 게임 데이터가 없는 것으로 판단합니다.\n",
    "            print(f\"'{game_name}'에 대한 거래 기록 div를 찾을 수 없습니다. 'nodata'를 반환합니다.\")\n",
    "            return 'nodata'\n",
    "\n",
    "        for div_tag in div_tags:\n",
    "            try:\n",
    "                time_tag = div_tag.find_elements(By.CSS_SELECTOR, 'span.time.svelte-17mbxpf')\n",
    "                discount_date = time_tag[0].text if time_tag else None\n",
    "\n",
    "                store_tag = div_tag.find_elements(By.CSS_SELECTOR, 'span.svelte-zbwnbn')\n",
    "                store = store_tag[0].text if store_tag else None\n",
    "\n",
    "                duration_tag = div_tag.find_elements(By.CSS_SELECTOR, 'div.duration.svelte-17mbxpf')\n",
    "                duration = duration_tag[0].text if duration_tag else None\n",
    "\n",
    "                cut_tag = div_tag.find_elements(By.CSS_SELECTOR, 'span.cut.svelte-17mbxpf')\n",
    "                # cut_tag[0]은 할인의 종류 (e.g., \"Discount\"), cut_tag[1]이 할인율을 나타냅니다.\n",
    "                cut = cut_tag[1].text if len(cut_tag) > 1 else None\n",
    "\n",
    "                price_tag = div_tag.find_elements(By.CSS_SELECTOR, 'div.price.svelte-17mbxpf div')\n",
    "                reg_price = price_tag[0].text if len(price_tag) > 0 else None\n",
    "                discount_price = price_tag[2].text if len(price_tag) > 2 else None\n",
    "                price_comp = price_tag[3].text if len(price_tag) > 3 else None\n",
    "\n",
    "                log = {\n",
    "                    '할인 시작 날짜': discount_date,\n",
    "                    '플랫폼 이름': store,\n",
    "                    '할인 지속시간': duration,\n",
    "                    '할인율': cut,\n",
    "                    '원가': reg_price,\n",
    "                    '할인가': discount_price,\n",
    "                    '이전과 비교한 할인가격': price_comp\n",
    "                }\n",
    "                processed_log = process_game_price_data(log)\n",
    "                game_log.append(processed_log)\n",
    "            except Exception as e:\n",
    "                print(f\"개별 로그 처리 중 오류 발생: {e}\")\n",
    "                continue # 오류가 발생해도 다음 로그로 넘어갑니다.\n",
    "\n",
    "        return game_log\n",
    "\n",
    "    except WebDriverException as e:\n",
    "        print(f\"웹 드라이버 오류 발생: {e}. 'nodata'를 반환합니다.\")\n",
    "        return 'nodata'\n",
    "    except Exception as e:\n",
    "        print(f\"예기치 않은 오류 발생: {e}. 'nodata'를 반환합니다.\")\n",
    "        return 'nodata'\n",
    "    finally:\n",
    "        if driver:\n",
    "            driver.quit() # 오류 발생 여부와 상관없이 드라이버 종료\n",
    "\n",
    "# data디렉토리를 생성하고 data_json 디렉토리에 파일을 넣어주는 함수\n",
    "def save_json(data, game_name):\n",
    "    \"\"\"JSON 파일 저장 함수\"\"\"\n",
    "    if data == 'nodata': # 'nodata'가 반환되면 파일 저장하지 않음\n",
    "        print(f\"'{game_name}'에 대한 데이터가 없어 JSON 파일을 저장하지 않습니다.\")\n",
    "        return\n",
    "\n",
    "    os.makedirs('data/data_json', exist_ok=True)\n",
    "    filepath = f'data/data_json/{game_name}.json'\n",
    "    with open(filepath, 'w', encoding='utf-8') as f:\n",
    "        json.dump(data, f, ensure_ascii=False, indent=4)\n",
    "    print(f\"'{game_name}.json' 파일이 성공적으로 저장되었습니다.\")\n",
    "\n",
    "def jsonfile_to_csv(game_name):\n",
    "    json_filepath = f'data/data_json/{game_name}.json'\n",
    "    if not os.path.exists(json_filepath): # JSON 파일이 없으면 CSV 변환하지 않음\n",
    "        print(f\"'{game_name}.json' 파일이 존재하지 않아 CSV로 변환할 수 없습니다.\")\n",
    "        return\n",
    "\n",
    "    gamelog_df = pd.read_json(json_filepath)\n",
    "    \n",
    "    columns_to_convert = ['원가', '할인가', '이전과 비교한 할인가격', '할인 시작 날짜', '할인율']\n",
    "    for col in columns_to_convert:\n",
    "        if col in gamelog_df.columns:\n",
    "            # 먼저 숫자가 아닌 값(결측값 포함)을 'NoData'로 채우기 전에\n",
    "            # 해당 열을 object 타입으로 변환합니다.\n",
    "            # .astype(str) 대신 .astype(object)를 사용하는 것이 더 유연합니다.\n",
    "            gamelog_df[col] = gamelog_df[col].astype(object)\n",
    "    gamelog_df.fillna('NoData',inplace = True)\n",
    "    os.makedirs('data/data_csv', exist_ok=True)\n",
    "    gamelog_df.to_csv(f'data/data_csv/{game_name}.csv', index=False)\n",
    "    print(f\"'{game_name}.csv' 파일이 성공적으로 생성되었습니다.\")\n",
    "    return\n",
    "\n",
    "#csv파일에 있는 '게임 이름'을 사이트로 들어갈 수 있도록 처리\n",
    "def clean_game_name_final(name):\n",
    "    \"\"\"\n",
    "    게임 이름 문자열을 최종 클리닝하는 함수:\n",
    "    - 모두 소문자로 변환\n",
    "    - '&'를 'and'로 변환\n",
    "    - 띄어쓰기를 하이픈으로 변환\n",
    "    - 영어 소문자, 숫자, 하이픈 외 모든 문자 제거\n",
    "    - 연속된 하이픈 합치기 및 불필요한 하이픈 제거\n",
    "    \"\"\"\n",
    "    # 0. 입력값이 NaN일 경우 빈 문자열로 처리\n",
    "    if pd.isna(name):\n",
    "        return \"\"\n",
    "        \n",
    "    # 문자열로 변환하고 모두 소문자로 변경\n",
    "    cleaned_name = str(name).lower()\n",
    "\n",
    "    # 1. '&' 기호를 'and'로 변환 (먼저 처리)\n",
    "    cleaned_name = cleaned_name.replace('&', 'and')\n",
    "\n",
    "    # 2. 띄어쓰기(' ')를 하이픈('-')으로 변환\n",
    "    # 이 단계를 모든 비-a-z0-9- 문자 제거 전에 수행하여 공백이 하이픈으로 변환되도록 합니다.\n",
    "    cleaned_name = cleaned_name.replace(' ', '-')\n",
    "\n",
    "    # 3. 영어 소문자, 숫자, 하이픈('-')을 제외한 모든 문자 제거\n",
    "    # 이제 공백은 하이픈으로 변환되었으므로, 이 정규식은 하이픈을 제외한 나머지 불필요한 문자만 제거합니다.\n",
    "    cleaned_name = re.sub(r'[^a-z0-9-]', '', cleaned_name)\n",
    "\n",
    "    # 4. 연속으로 나타나는 하이픈을 하나로 줄이기 (예: 'metal--gear' -> 'metal-gear')\n",
    "    # 이전 단계에서 공백이 하이픈으로 바뀌고, 다른 문자들이 제거되면서 연속 하이픈이 생길 수 있습니다.\n",
    "    cleaned_name = re.sub(r'-+', '-', cleaned_name)\n",
    "    \n",
    "    # 5. 문장 시작/끝에 불필요하게 붙는 하이픈 제거 (예: '-metal-gear-' -> 'metal-gear')\n",
    "    cleaned_name = cleaned_name.strip('-')\n",
    "    \n",
    "    # 6. 마지막으로, 혹시 남아있을 수 있는 공백 제거 (trim)\n",
    "    cleaned_name = cleaned_name.strip()\n",
    "\n",
    "    return cleaned_name\n",
    "\n",
    "#날짜별 각 플랫폼의 가격 시각화 \n",
    "def visualize(game_data):\n",
    "    # '할인 시작 날짜'를 datetime 형식으로 변환\n",
    "    game_data['할인 시작 날짜'] = pd.to_datetime(game_data['할인 시작 날짜'])\n",
    "\n",
    "    # Plotly를 사용하여 산점도 생성\n",
    "    fig = px.scatter(game_data,\n",
    "                    x='할인 시작 날짜',\n",
    "                    y='할인가',\n",
    "                    hover_name='플랫폼 이름',\n",
    "                    hover_data={'할인가': ':,'},  # 할인가를 쉼표와 함께 전체 숫자로 표시\n",
    "                    title='날짜별 할인가 및 최저가 추이',\n",
    "                    labels={'할인 시작 날짜': '할인 시작 날짜', '할인가': '할인가 (원)'})\n",
    "\n",
    "    # 각 날짜별 최저가 계산\n",
    "    game_data_min_price = game_data.groupby('할인 시작 날짜')['할인가'].min().reset_index()\n",
    "    game_data_min_price.columns = ['할인 시작 날짜', '최저 할인가']\n",
    "\n",
    "    # 최저가를 나타내는 라인 트레이스 추가\n",
    "    fig.add_trace(\n",
    "        go.Scatter(\n",
    "            x=game_data_min_price['할인 시작 날짜'],\n",
    "            y=game_data_min_price['최저 할인가'],\n",
    "            mode='lines+markers',\n",
    "            name='일별 최저 할인가',\n",
    "            line=dict(color='red', width=2),\n",
    "            marker=dict(size=8, symbol='circle-open', color='red'),\n",
    "            hovertemplate='<b>날짜:</b> %{x|%Y-%m-%d}<br><b>최저 할인가:</b> %{y:,}원<extra></extra>' # 쉼표와 함께 전체 숫자로 표시\n",
    "        )\n",
    "    )\n",
    "\n",
    "    # 그래프 레이아웃 업데이트\n",
    "    fig.update_traces(marker=dict(size=10, opacity=0.8),\n",
    "                    selector=dict(mode='markers'))\n",
    "\n",
    "    fig.update_layout(xaxis_title=\"할인 날짜\",\n",
    "                    yaxis_title=\"할인가\",\n",
    "                    xaxis_tickformat='%Y-%m-%d',\n",
    "                    yaxis_tickformat=',', # y축 레이블을 쉼표를 포함한 전체 숫자로 표시\n",
    "                    legend_title_text='범례')\n",
    "\n",
    "    fig.show()\n",
    "    return\n",
    "\n",
    "# if __name__ == \"__main__\":\n",
    "#     # 케이스 1: 정상적인 게임 이름\n",
    "#     print(\"--- Case 1: Normal game name ---\")\n",
    "#     game_name_1 = 'sid-meiers-civilization-vi'\n",
    "#     gamelog_1 = history_log(game_name_1)\n",
    "#     if gamelog_1 != 'nodata':\n",
    "#         save_json(gamelog_1, game_name_1)\n",
    "#         jsonfile_to_csv(game_name_1)\n",
    "#     print(\"\\n\")\n",
    "\n",
    "#     # 케이스 2: 존재하지 않는 게임 이름\n",
    "#     print(\"--- Case 2: Non-existent game name ---\")\n",
    "#     game_name_2 = 'this-game-does-not-exist-12345'\n",
    "#     gamelog_2 = history_log(game_name_2)\n",
    "#     if gamelog_2 != 'nodata':\n",
    "#         save_json(gamelog_2, game_name_2)\n",
    "#         jsonfile_to_csv(game_name_2)\n",
    "#     else:\n",
    "#         print(f\"'{game_name_2}'에 대한 데이터를 찾을 수 없어 'nodata'를 반환했습니다.\")\n",
    "#     print(\"\\n\")\n",
    "\n",
    "#     # 케이스 3: game_name이 빈 문자열인 경우\n",
    "#     print(\"--- Case 3: Empty game_name ---\")\n",
    "#     game_name_3 = ''\n",
    "#     gamelog_3 = history_log(game_name_3)\n",
    "#     if gamelog_3 != 'nodata':\n",
    "#         save_json(gamelog_3, game_name_3)\n",
    "#         jsonfile_to_csv(game_name_3)\n",
    "#     else:\n",
    "#         print(f\"'{game_name_3}'에 대한 데이터를 찾을 수 없어 'nodata'를 반환했습니다.\")\n",
    "#     print(\"\\n\")\n",
    "\n",
    "#     # 케이스 4: game_name이 None인 경우\n",
    "#     print(\"--- Case 4: None game_name ---\")\n",
    "#     game_name_4 = None\n",
    "#     gamelog_4 = history_log(game_name_4)\n",
    "#     if gamelog_4 != 'nodata':\n",
    "#         save_json(gamelog_4, game_name_4)\n",
    "#         jsonfile_to_csv(game_name_4)\n",
    "#     else:\n",
    "#         print(f\"'{game_name_4}'에 대한 데이터를 찾을 수 없어 'nodata'를 반환했습니다.\")\n",
    "#     print(\"\\n\")"
   ]
  },
  {
   "cell_type": "code",
   "execution_count": null,
   "id": "6a8e2f04",
   "metadata": {},
   "outputs": [],
   "source": [
    "# 게임 csv파일을 받아서 '게임 이름'을 list로 받기\n",
    "csvfilename = '../steam_normalized_data.csv'\n",
    "game_data = pd.read_csv(csvfilename)\n",
    "\n",
    "game_data['게임 이름'] = game_data['게임 이름'].apply(clean_game_name_final)\n",
    "games = game_data['게임 이름'].tolist()\n",
    "\n",
    "#gamelog를 json 및 csv 파일로 저장\n",
    "for game_name in games[3:4] :\n",
    "    gamelog = history_log(game_name)\n",
    "    if gamelog != 'nodata':\n",
    "        save_json(gamelog, game_name)\n",
    "        jsonfile_to_csv(game_name)\n",
    "    else:\n",
    "        print(f\"'{game_name}'에 대한 데이터를 찾을 수 없어 'nodata'를 반환했습니다.\")"
   ]
  },
  {
   "cell_type": "code",
   "execution_count": 18,
   "id": "a7e8ce36",
   "metadata": {},
   "outputs": [
    {
     "data": {
      "application/vnd.plotly.v1+json": {
       "config": {
        "plotlyServerURL": "https://plot.ly"
       },
       "data": [
        {
         "hovertemplate": "<b>%{hovertext}</b><br><br>할인 시작 날짜=%{x}<br>할인가 (원)=%{y:,}<extra></extra>",
         "hovertext": [
          "AllYouPlay",
          "GameBillet",
          "IndieGala Store",
          "GameBillet",
          "Humble Store",
          "Noctre",
          "GamersGate",
          "GreenManGaming",
          "GreenManGaming",
          "GamersGate",
          "GamersGate",
          "Humble Store",
          "GameBillet",
          "IndieGala Store",
          "GameBillet",
          "GamersGate",
          "Noctre",
          "AllYouPlay",
          "GreenManGaming",
          "2game",
          "WinGameStore",
          "MacGameStore",
          "WinGameStore",
          "Humble Store",
          "GamesPlanet US",
          "Epic Game Store",
          "MacGameStore",
          "Dreamgame",
          "Microsoft Store",
          "GreenManGaming",
          "AllYouPlay",
          "GameBillet",
          "Fanatical",
          "GamersGate",
          "Noctre",
          "GreenManGaming",
          "Steam",
          "Dreamgame",
          "Dreamgame"
         ],
         "legendgroup": "",
         "marker": {
          "color": "#636efa",
          "opacity": 0.8,
          "size": 10,
          "symbol": "circle"
         },
         "mode": "markers",
         "name": "",
         "orientation": "v",
         "showlegend": false,
         "type": "scatter",
         "x": [
          "2025-07-31T00:00:00",
          "2025-07-31T00:00:00",
          "2025-07-31T00:00:00",
          "2025-07-31T00:00:00",
          "2025-07-31T00:00:00",
          "2025-07-30T00:00:00",
          "2025-07-27T00:00:00",
          "2025-07-26T00:00:00",
          "2025-07-26T00:00:00",
          "2025-07-25T00:00:00",
          "2025-07-25T00:00:00",
          "2025-07-25T00:00:00",
          "2025-07-24T00:00:00",
          "2025-07-23T00:00:00",
          "2025-07-23T00:00:00",
          "2025-07-23T00:00:00",
          "2025-07-23T00:00:00",
          "2025-07-23T00:00:00",
          "2025-07-19T00:00:00",
          "2025-07-18T00:00:00",
          "2025-07-18T00:00:00",
          "2025-07-18T00:00:00",
          "2025-07-18T00:00:00",
          "2025-07-18T00:00:00",
          "2025-07-18T00:00:00",
          "2025-07-18T00:00:00",
          "2025-07-17T00:00:00",
          "2025-07-17T00:00:00",
          "2025-07-17T00:00:00",
          "2025-07-14T00:00:00",
          "2025-07-13T00:00:00",
          "2025-07-13T00:00:00",
          "2025-07-13T00:00:00",
          "2025-07-13T00:00:00",
          "2025-07-13T00:00:00",
          "2025-07-11T00:00:00",
          "2025-07-11T00:00:00",
          "2025-07-08T00:00:00",
          "2025-07-08T00:00:00"
         ],
         "xaxis": "x",
         "y": [
          83552,
          69318,
          83552,
          83552,
          83552,
          83552,
          65000,
          3000,
          5900,
          6500,
          65000,
          8343,
          7437,
          8343,
          8357,
          6500,
          8287,
          8357,
          65000,
          65000,
          3872,
          3872,
          5975,
          4164,
          75195,
          6500,
          4164,
          65000,
          6800,
          5900,
          83552,
          69318,
          83552,
          65000,
          83552,
          65000,
          65000,
          6500,
          65000
         ],
         "yaxis": "y"
        },
        {
         "hovertemplate": "<b>날짜:</b> %{x|%Y-%m-%d}<br><b>최저 할인가:</b> %{y:,}원<extra></extra>",
         "line": {
          "color": "red",
          "width": 2
         },
         "marker": {
          "color": "red",
          "size": 8,
          "symbol": "circle-open"
         },
         "mode": "lines+markers",
         "name": "일별 최저 할인가",
         "type": "scatter",
         "x": [
          "2025-07-08T00:00:00",
          "2025-07-11T00:00:00",
          "2025-07-13T00:00:00",
          "2025-07-14T00:00:00",
          "2025-07-17T00:00:00",
          "2025-07-18T00:00:00",
          "2025-07-19T00:00:00",
          "2025-07-23T00:00:00",
          "2025-07-24T00:00:00",
          "2025-07-25T00:00:00",
          "2025-07-26T00:00:00",
          "2025-07-27T00:00:00",
          "2025-07-30T00:00:00",
          "2025-07-31T00:00:00"
         ],
         "y": [
          6500,
          65000,
          65000,
          5900,
          4164,
          3872,
          65000,
          6500,
          7437,
          6500,
          3000,
          65000,
          83552,
          69318
         ]
        }
       ],
       "layout": {
        "legend": {
         "title": {
          "text": "범례"
         },
         "tracegroupgap": 0
        },
        "template": {
         "data": {
          "bar": [
           {
            "error_x": {
             "color": "#2a3f5f"
            },
            "error_y": {
             "color": "#2a3f5f"
            },
            "marker": {
             "line": {
              "color": "#E5ECF6",
              "width": 0.5
             },
             "pattern": {
              "fillmode": "overlay",
              "size": 10,
              "solidity": 0.2
             }
            },
            "type": "bar"
           }
          ],
          "barpolar": [
           {
            "marker": {
             "line": {
              "color": "#E5ECF6",
              "width": 0.5
             },
             "pattern": {
              "fillmode": "overlay",
              "size": 10,
              "solidity": 0.2
             }
            },
            "type": "barpolar"
           }
          ],
          "carpet": [
           {
            "aaxis": {
             "endlinecolor": "#2a3f5f",
             "gridcolor": "white",
             "linecolor": "white",
             "minorgridcolor": "white",
             "startlinecolor": "#2a3f5f"
            },
            "baxis": {
             "endlinecolor": "#2a3f5f",
             "gridcolor": "white",
             "linecolor": "white",
             "minorgridcolor": "white",
             "startlinecolor": "#2a3f5f"
            },
            "type": "carpet"
           }
          ],
          "choropleth": [
           {
            "colorbar": {
             "outlinewidth": 0,
             "ticks": ""
            },
            "type": "choropleth"
           }
          ],
          "contour": [
           {
            "colorbar": {
             "outlinewidth": 0,
             "ticks": ""
            },
            "colorscale": [
             [
              0,
              "#0d0887"
             ],
             [
              0.1111111111111111,
              "#46039f"
             ],
             [
              0.2222222222222222,
              "#7201a8"
             ],
             [
              0.3333333333333333,
              "#9c179e"
             ],
             [
              0.4444444444444444,
              "#bd3786"
             ],
             [
              0.5555555555555556,
              "#d8576b"
             ],
             [
              0.6666666666666666,
              "#ed7953"
             ],
             [
              0.7777777777777778,
              "#fb9f3a"
             ],
             [
              0.8888888888888888,
              "#fdca26"
             ],
             [
              1,
              "#f0f921"
             ]
            ],
            "type": "contour"
           }
          ],
          "contourcarpet": [
           {
            "colorbar": {
             "outlinewidth": 0,
             "ticks": ""
            },
            "type": "contourcarpet"
           }
          ],
          "heatmap": [
           {
            "colorbar": {
             "outlinewidth": 0,
             "ticks": ""
            },
            "colorscale": [
             [
              0,
              "#0d0887"
             ],
             [
              0.1111111111111111,
              "#46039f"
             ],
             [
              0.2222222222222222,
              "#7201a8"
             ],
             [
              0.3333333333333333,
              "#9c179e"
             ],
             [
              0.4444444444444444,
              "#bd3786"
             ],
             [
              0.5555555555555556,
              "#d8576b"
             ],
             [
              0.6666666666666666,
              "#ed7953"
             ],
             [
              0.7777777777777778,
              "#fb9f3a"
             ],
             [
              0.8888888888888888,
              "#fdca26"
             ],
             [
              1,
              "#f0f921"
             ]
            ],
            "type": "heatmap"
           }
          ],
          "heatmapgl": [
           {
            "colorbar": {
             "outlinewidth": 0,
             "ticks": ""
            },
            "colorscale": [
             [
              0,
              "#0d0887"
             ],
             [
              0.1111111111111111,
              "#46039f"
             ],
             [
              0.2222222222222222,
              "#7201a8"
             ],
             [
              0.3333333333333333,
              "#9c179e"
             ],
             [
              0.4444444444444444,
              "#bd3786"
             ],
             [
              0.5555555555555556,
              "#d8576b"
             ],
             [
              0.6666666666666666,
              "#ed7953"
             ],
             [
              0.7777777777777778,
              "#fb9f3a"
             ],
             [
              0.8888888888888888,
              "#fdca26"
             ],
             [
              1,
              "#f0f921"
             ]
            ],
            "type": "heatmapgl"
           }
          ],
          "histogram": [
           {
            "marker": {
             "pattern": {
              "fillmode": "overlay",
              "size": 10,
              "solidity": 0.2
             }
            },
            "type": "histogram"
           }
          ],
          "histogram2d": [
           {
            "colorbar": {
             "outlinewidth": 0,
             "ticks": ""
            },
            "colorscale": [
             [
              0,
              "#0d0887"
             ],
             [
              0.1111111111111111,
              "#46039f"
             ],
             [
              0.2222222222222222,
              "#7201a8"
             ],
             [
              0.3333333333333333,
              "#9c179e"
             ],
             [
              0.4444444444444444,
              "#bd3786"
             ],
             [
              0.5555555555555556,
              "#d8576b"
             ],
             [
              0.6666666666666666,
              "#ed7953"
             ],
             [
              0.7777777777777778,
              "#fb9f3a"
             ],
             [
              0.8888888888888888,
              "#fdca26"
             ],
             [
              1,
              "#f0f921"
             ]
            ],
            "type": "histogram2d"
           }
          ],
          "histogram2dcontour": [
           {
            "colorbar": {
             "outlinewidth": 0,
             "ticks": ""
            },
            "colorscale": [
             [
              0,
              "#0d0887"
             ],
             [
              0.1111111111111111,
              "#46039f"
             ],
             [
              0.2222222222222222,
              "#7201a8"
             ],
             [
              0.3333333333333333,
              "#9c179e"
             ],
             [
              0.4444444444444444,
              "#bd3786"
             ],
             [
              0.5555555555555556,
              "#d8576b"
             ],
             [
              0.6666666666666666,
              "#ed7953"
             ],
             [
              0.7777777777777778,
              "#fb9f3a"
             ],
             [
              0.8888888888888888,
              "#fdca26"
             ],
             [
              1,
              "#f0f921"
             ]
            ],
            "type": "histogram2dcontour"
           }
          ],
          "mesh3d": [
           {
            "colorbar": {
             "outlinewidth": 0,
             "ticks": ""
            },
            "type": "mesh3d"
           }
          ],
          "parcoords": [
           {
            "line": {
             "colorbar": {
              "outlinewidth": 0,
              "ticks": ""
             }
            },
            "type": "parcoords"
           }
          ],
          "pie": [
           {
            "automargin": true,
            "type": "pie"
           }
          ],
          "scatter": [
           {
            "fillpattern": {
             "fillmode": "overlay",
             "size": 10,
             "solidity": 0.2
            },
            "type": "scatter"
           }
          ],
          "scatter3d": [
           {
            "line": {
             "colorbar": {
              "outlinewidth": 0,
              "ticks": ""
             }
            },
            "marker": {
             "colorbar": {
              "outlinewidth": 0,
              "ticks": ""
             }
            },
            "type": "scatter3d"
           }
          ],
          "scattercarpet": [
           {
            "marker": {
             "colorbar": {
              "outlinewidth": 0,
              "ticks": ""
             }
            },
            "type": "scattercarpet"
           }
          ],
          "scattergeo": [
           {
            "marker": {
             "colorbar": {
              "outlinewidth": 0,
              "ticks": ""
             }
            },
            "type": "scattergeo"
           }
          ],
          "scattergl": [
           {
            "marker": {
             "colorbar": {
              "outlinewidth": 0,
              "ticks": ""
             }
            },
            "type": "scattergl"
           }
          ],
          "scattermapbox": [
           {
            "marker": {
             "colorbar": {
              "outlinewidth": 0,
              "ticks": ""
             }
            },
            "type": "scattermapbox"
           }
          ],
          "scatterpolar": [
           {
            "marker": {
             "colorbar": {
              "outlinewidth": 0,
              "ticks": ""
             }
            },
            "type": "scatterpolar"
           }
          ],
          "scatterpolargl": [
           {
            "marker": {
             "colorbar": {
              "outlinewidth": 0,
              "ticks": ""
             }
            },
            "type": "scatterpolargl"
           }
          ],
          "scatterternary": [
           {
            "marker": {
             "colorbar": {
              "outlinewidth": 0,
              "ticks": ""
             }
            },
            "type": "scatterternary"
           }
          ],
          "surface": [
           {
            "colorbar": {
             "outlinewidth": 0,
             "ticks": ""
            },
            "colorscale": [
             [
              0,
              "#0d0887"
             ],
             [
              0.1111111111111111,
              "#46039f"
             ],
             [
              0.2222222222222222,
              "#7201a8"
             ],
             [
              0.3333333333333333,
              "#9c179e"
             ],
             [
              0.4444444444444444,
              "#bd3786"
             ],
             [
              0.5555555555555556,
              "#d8576b"
             ],
             [
              0.6666666666666666,
              "#ed7953"
             ],
             [
              0.7777777777777778,
              "#fb9f3a"
             ],
             [
              0.8888888888888888,
              "#fdca26"
             ],
             [
              1,
              "#f0f921"
             ]
            ],
            "type": "surface"
           }
          ],
          "table": [
           {
            "cells": {
             "fill": {
              "color": "#EBF0F8"
             },
             "line": {
              "color": "white"
             }
            },
            "header": {
             "fill": {
              "color": "#C8D4E3"
             },
             "line": {
              "color": "white"
             }
            },
            "type": "table"
           }
          ]
         },
         "layout": {
          "annotationdefaults": {
           "arrowcolor": "#2a3f5f",
           "arrowhead": 0,
           "arrowwidth": 1
          },
          "autotypenumbers": "strict",
          "coloraxis": {
           "colorbar": {
            "outlinewidth": 0,
            "ticks": ""
           }
          },
          "colorscale": {
           "diverging": [
            [
             0,
             "#8e0152"
            ],
            [
             0.1,
             "#c51b7d"
            ],
            [
             0.2,
             "#de77ae"
            ],
            [
             0.3,
             "#f1b6da"
            ],
            [
             0.4,
             "#fde0ef"
            ],
            [
             0.5,
             "#f7f7f7"
            ],
            [
             0.6,
             "#e6f5d0"
            ],
            [
             0.7,
             "#b8e186"
            ],
            [
             0.8,
             "#7fbc41"
            ],
            [
             0.9,
             "#4d9221"
            ],
            [
             1,
             "#276419"
            ]
           ],
           "sequential": [
            [
             0,
             "#0d0887"
            ],
            [
             0.1111111111111111,
             "#46039f"
            ],
            [
             0.2222222222222222,
             "#7201a8"
            ],
            [
             0.3333333333333333,
             "#9c179e"
            ],
            [
             0.4444444444444444,
             "#bd3786"
            ],
            [
             0.5555555555555556,
             "#d8576b"
            ],
            [
             0.6666666666666666,
             "#ed7953"
            ],
            [
             0.7777777777777778,
             "#fb9f3a"
            ],
            [
             0.8888888888888888,
             "#fdca26"
            ],
            [
             1,
             "#f0f921"
            ]
           ],
           "sequentialminus": [
            [
             0,
             "#0d0887"
            ],
            [
             0.1111111111111111,
             "#46039f"
            ],
            [
             0.2222222222222222,
             "#7201a8"
            ],
            [
             0.3333333333333333,
             "#9c179e"
            ],
            [
             0.4444444444444444,
             "#bd3786"
            ],
            [
             0.5555555555555556,
             "#d8576b"
            ],
            [
             0.6666666666666666,
             "#ed7953"
            ],
            [
             0.7777777777777778,
             "#fb9f3a"
            ],
            [
             0.8888888888888888,
             "#fdca26"
            ],
            [
             1,
             "#f0f921"
            ]
           ]
          },
          "colorway": [
           "#636efa",
           "#EF553B",
           "#00cc96",
           "#ab63fa",
           "#FFA15A",
           "#19d3f3",
           "#FF6692",
           "#B6E880",
           "#FF97FF",
           "#FECB52"
          ],
          "font": {
           "color": "#2a3f5f"
          },
          "geo": {
           "bgcolor": "white",
           "lakecolor": "white",
           "landcolor": "#E5ECF6",
           "showlakes": true,
           "showland": true,
           "subunitcolor": "white"
          },
          "hoverlabel": {
           "align": "left"
          },
          "hovermode": "closest",
          "mapbox": {
           "style": "light"
          },
          "paper_bgcolor": "white",
          "plot_bgcolor": "#E5ECF6",
          "polar": {
           "angularaxis": {
            "gridcolor": "white",
            "linecolor": "white",
            "ticks": ""
           },
           "bgcolor": "#E5ECF6",
           "radialaxis": {
            "gridcolor": "white",
            "linecolor": "white",
            "ticks": ""
           }
          },
          "scene": {
           "xaxis": {
            "backgroundcolor": "#E5ECF6",
            "gridcolor": "white",
            "gridwidth": 2,
            "linecolor": "white",
            "showbackground": true,
            "ticks": "",
            "zerolinecolor": "white"
           },
           "yaxis": {
            "backgroundcolor": "#E5ECF6",
            "gridcolor": "white",
            "gridwidth": 2,
            "linecolor": "white",
            "showbackground": true,
            "ticks": "",
            "zerolinecolor": "white"
           },
           "zaxis": {
            "backgroundcolor": "#E5ECF6",
            "gridcolor": "white",
            "gridwidth": 2,
            "linecolor": "white",
            "showbackground": true,
            "ticks": "",
            "zerolinecolor": "white"
           }
          },
          "shapedefaults": {
           "line": {
            "color": "#2a3f5f"
           }
          },
          "ternary": {
           "aaxis": {
            "gridcolor": "white",
            "linecolor": "white",
            "ticks": ""
           },
           "baxis": {
            "gridcolor": "white",
            "linecolor": "white",
            "ticks": ""
           },
           "bgcolor": "#E5ECF6",
           "caxis": {
            "gridcolor": "white",
            "linecolor": "white",
            "ticks": ""
           }
          },
          "title": {
           "x": 0.05
          },
          "xaxis": {
           "automargin": true,
           "gridcolor": "white",
           "linecolor": "white",
           "ticks": "",
           "title": {
            "standoff": 15
           },
           "zerolinecolor": "white",
           "zerolinewidth": 2
          },
          "yaxis": {
           "automargin": true,
           "gridcolor": "white",
           "linecolor": "white",
           "ticks": "",
           "title": {
            "standoff": 15
           },
           "zerolinecolor": "white",
           "zerolinewidth": 2
          }
         }
        },
        "title": {
         "text": "날짜별 할인가 및 최저가 추이"
        },
        "xaxis": {
         "anchor": "y",
         "domain": [
          0,
          1
         ],
         "tickformat": "%Y-%m-%d",
         "title": {
          "text": "할인 날짜"
         }
        },
        "yaxis": {
         "anchor": "x",
         "domain": [
          0,
          1
         ],
         "tickformat": ",",
         "title": {
          "text": "할인가"
         }
        }
       }
      }
     },
     "metadata": {},
     "output_type": "display_data"
    }
   ],
   "source": [
    "game_data = pd.read_csv('data/data_csv/sid-meiers-civilization-vi.csv')\n",
    "visualize(game_data)"
   ]
  },
  {
   "cell_type": "markdown",
   "id": "afd38a46",
   "metadata": {},
   "source": [
    "### 시각화"
   ]
  },
  {
   "cell_type": "code",
   "execution_count": null,
   "id": "bb52523a",
   "metadata": {},
   "outputs": [],
   "source": [
    "import pandas as pd\n",
    "import plotly.express as px\n",
    "import plotly.graph_objects as go\n",
    "\n",
    "\n",
    "# '할인 시작 날짜'를 datetime 형식으로 변환\n",
    "game_data['할인 시작 날짜'] = pd.to_datetime(game_data['할인 시작 날짜'])\n",
    "\n",
    "# Plotly를 사용하여 산점도 생성\n",
    "fig = px.scatter(game_data,\n",
    "                 x='할인 시작 날짜',\n",
    "                 y='할인가',\n",
    "                 hover_name='플랫폼 이름',\n",
    "                 hover_data={'할인가': ':,'},  # 할인가를 쉼표와 함께 전체 숫자로 표시\n",
    "                 title='날짜별 할인가 및 최저가 추이',\n",
    "                 labels={'할인 시작 날짜': '할인 시작 날짜', '할인가': '할인가 (원)'})\n",
    "\n",
    "# 각 날짜별 최저가 계산\n",
    "game_data_min_price = game_data.groupby('할인 시작 날짜')['할인가'].min().reset_index()\n",
    "game_data_min_price.columns = ['할인 시작 날짜', '최저 할인가']\n",
    "\n",
    "# 최저가를 나타내는 라인 트레이스 추가\n",
    "fig.add_trace(\n",
    "    go.Scatter(\n",
    "        x=game_data_min_price['할인 시작 날짜'],\n",
    "        y=game_data_min_price['최저 할인가'],\n",
    "        mode='lines+markers',\n",
    "        name='일별 최저 할인가',\n",
    "        line=dict(color='red', width=2),\n",
    "        marker=dict(size=8, symbol='circle-open', color='red'),\n",
    "        hovertemplate='<b>날짜:</b> %{x|%Y-%m-%d}<br><b>최저 할인가:</b> %{y:,}원<extra></extra>' # 쉼표와 함께 전체 숫자로 표시\n",
    "    )\n",
    ")\n",
    "\n",
    "# 그래프 레이아웃 업데이트\n",
    "fig.update_traces(marker=dict(size=10, opacity=0.8),\n",
    "                  selector=dict(mode='markers'))\n",
    "\n",
    "fig.update_layout(xaxis_title=\"할인 날짜\",\n",
    "                  yaxis_title=\"할인가\",\n",
    "                  xaxis_tickformat='%Y-%m-%d',\n",
    "                  yaxis_tickformat=',', # y축 레이블을 쉼표를 포함한 전체 숫자로 표시\n",
    "                  legend_title_text='범례')\n",
    "\n",
    "fig.show()"
   ]
  },
  {
   "cell_type": "code",
   "execution_count": null,
   "id": "8d0357a3",
   "metadata": {},
   "outputs": [],
   "source": [
    "import pandas as pd\n",
    "import plotly.express as px\n",
    "import plotly.graph_objects as go\n",
    "\n",
    "def visualize(game_data):\n",
    "    # '할인 시작 날짜'를 datetime 형식으로 변환\n",
    "    game_data['할인 시작 날짜'] = pd.to_datetime(game_data['할인 시작 날짜'])\n",
    "\n",
    "    # Plotly를 사용하여 산점도 생성\n",
    "    fig = px.scatter(game_data,\n",
    "                    x='할인 시작 날짜',\n",
    "                    y='할인가',\n",
    "                    hover_name='플랫폼 이름',\n",
    "                    hover_data={'할인가': ':,'},  # 할인가를 쉼표와 함께 전체 숫자로 표시\n",
    "                    title='날짜별 할인가 및 최저가 추이',\n",
    "                    labels={'할인 시작 날짜': '할인 시작 날짜', '할인가': '할인가 (원)'})\n",
    "\n",
    "    # 각 날짜별 최저가 계산\n",
    "    game_data_min_price = game_data.groupby('할인 시작 날짜')['할인가'].min().reset_index()\n",
    "    game_data_min_price.columns = ['할인 시작 날짜', '최저 할인가']\n",
    "\n",
    "    # 최저가를 나타내는 라인 트레이스 추가\n",
    "    fig.add_trace(\n",
    "        go.Scatter(\n",
    "            x=game_data_min_price['할인 시작 날짜'],\n",
    "            y=game_data_min_price['최저 할인가'],\n",
    "            mode='lines+markers',\n",
    "            name='일별 최저 할인가',\n",
    "            line=dict(color='red', width=2),\n",
    "            marker=dict(size=8, symbol='circle-open', color='red'),\n",
    "            hovertemplate='<b>날짜:</b> %{x|%Y-%m-%d}<br><b>최저 할인가:</b> %{y:,}원<extra></extra>' # 쉼표와 함께 전체 숫자로 표시\n",
    "        )\n",
    "    )\n",
    "\n",
    "    # 그래프 레이아웃 업데이트\n",
    "    fig.update_traces(marker=dict(size=10, opacity=0.8),\n",
    "                    selector=dict(mode='markers'))\n",
    "\n",
    "    fig.update_layout(xaxis_title=\"할인 날짜\",\n",
    "                    yaxis_title=\"할인가\",\n",
    "                    xaxis_tickformat='%Y-%m-%d',\n",
    "                    yaxis_tickformat=',', # y축 레이블을 쉼표를 포함한 전체 숫자로 표시\n",
    "                    legend_title_text='범례')\n",
    "\n",
    "    fig.show()\n",
    "    return"
   ]
  },
  {
   "cell_type": "markdown",
   "id": "2042f39e",
   "metadata": {},
   "source": [
    "### 안 될 경우 "
   ]
  },
  {
   "cell_type": "code",
   "execution_count": null,
   "id": "d0dd7f25",
   "metadata": {},
   "outputs": [],
   "source": [
    "\n",
    "# driver = webdriver.Chrome(service=Service(ChromeDriverManager().install())) #Chrome을 위한 webdriver install\n",
    "# driver.get(\"https://isthereanydeal.com/game/call-of-duty-modern-warfare-ii/history/\")\n",
    "\n",
    "# time.sleep(5)\n",
    "\n",
    "# #div 엘리먼트 선택해서 가져오기\n",
    "# div_tags = driver.find_elements(By.CSS_SELECTOR,'div.entry.svelte-17mbxpf')\n",
    "# print(len(div_tags))\n",
    "\n",
    "# for div_tag in div_tags :\n",
    "#     time_tag = div_tag.find_elements(By.CSS_SELECTOR,'span.time.svelte-17mbxpf')\n",
    "#     discount_date = time_tag[0].text\n",
    "#     print(discount_date)\n",
    "\n",
    "#     store_tag = div_tag.find_elements(By.CSS_SELECTOR,'span.svelte-zbwnbn')\n",
    "#     store = store_tag[0].text\n",
    "\n",
    "#     duration_tag = div_tag.find_elements(By.CSS_SELECTOR,'div.duration.svelte-17mbxpf')\n",
    "#     duration = duration_tag[0].text\n",
    "\n",
    "#     cut_tag = div_tag.find_elements(By.CSS_SELECTOR,'span.cut.svelte-17mbxpf')\n",
    "#     cut = cut_tag[1].text\n",
    "\n",
    "#     price_tag = div_tag.find_elements(By.CSS_SELECTOR,'div.price.svelte-17mbxpf div')\n",
    "#     reg_price = price_tag[0].text\n",
    "#     discount_price = price_tag[2].text\n",
    "#     price_comp = price_tag[3].text\n",
    "\n",
    "#     log = {'할인 시작 날짜':discount_date, '플랫폼 이름': store,'할인 지속시간':duration,'할인율':cut,'원가':reg_price,'할인가':discount_price,'이전과 비교한 할인가격':price_comp}\n",
    "#     pprint(log)\n",
    "#     # processed_log=process_price_data_with_sign(log)\n",
    "\n",
    "# #5초로 waiting time 설정\n",
    "# time.sleep(5)\n",
    "# #driver 종료\n",
    "# driver.quit()\n",
    "\n"
   ]
  },
  {
   "cell_type": "code",
   "execution_count": null,
   "id": "5da795fa",
   "metadata": {},
   "outputs": [],
   "source": [
    "# import pandas as pd\n",
    "# import re\n",
    "\n",
    "# def clean_game_name_final(name):\n",
    "#     \"\"\"\n",
    "#     게임 이름 문자열을 최종 클리닝하는 함수:\n",
    "#     - 모두 소문자로 변환\n",
    "#     - '&'를 'and'로 변환\n",
    "#     - 띄어쓰기를 하이픈으로 변환\n",
    "#     - 영어 소문자, 숫자, 하이픈 외 모든 문자 제거\n",
    "#     - 연속된 하이픈 합치기 및 불필요한 하이픈 제거\n",
    "#     \"\"\"\n",
    "#     # 0. 입력값이 NaN일 경우 빈 문자열로 처리\n",
    "#     if pd.isna(name):\n",
    "#         return \"\"\n",
    "        \n",
    "#     # 문자열로 변환하고 모두 소문자로 변경\n",
    "#     cleaned_name = str(name).lower()\n",
    "\n",
    "#     # 1. '&' 기호를 'and'로 변환 (먼저 처리)\n",
    "#     cleaned_name = cleaned_name.replace('&', 'and')\n",
    "\n",
    "#     # 2. 띄어쓰기(' ')를 하이픈('-')으로 변환\n",
    "#     # 이 단계를 모든 비-a-z0-9- 문자 제거 전에 수행하여 공백이 하이픈으로 변환되도록 합니다.\n",
    "#     cleaned_name = cleaned_name.replace(' ', '-')\n",
    "\n",
    "#     # 3. 영어 소문자, 숫자, 하이픈('-')을 제외한 모든 문자 제거\n",
    "#     # 이제 공백은 하이픈으로 변환되었으므로, 이 정규식은 하이픈을 제외한 나머지 불필요한 문자만 제거합니다.\n",
    "#     cleaned_name = re.sub(r'[^a-z0-9-]', '', cleaned_name)\n",
    "\n",
    "#     # 4. 연속으로 나타나는 하이픈을 하나로 줄이기 (예: 'metal--gear' -> 'metal-gear')\n",
    "#     # 이전 단계에서 공백이 하이픈으로 바뀌고, 다른 문자들이 제거되면서 연속 하이픈이 생길 수 있습니다.\n",
    "#     cleaned_name = re.sub(r'-+', '-', cleaned_name)\n",
    "    \n",
    "#     # 5. 문장 시작/끝에 불필요하게 붙는 하이픈 제거 (예: '-metal-gear-' -> 'metal-gear')\n",
    "#     cleaned_name = cleaned_name.strip('-')\n",
    "    \n",
    "#     # 6. 마지막으로, 혹시 남아있을 수 있는 공백 제거 (trim)\n",
    "#     cleaned_name = cleaned_name.strip()\n",
    "\n",
    "#     return cleaned_name\n"
   ]
  }
 ],
 "metadata": {
  "kernelspec": {
   "display_name": "base",
   "language": "python",
   "name": "python3"
  },
  "language_info": {
   "codemirror_mode": {
    "name": "ipython",
    "version": 3
   },
   "file_extension": ".py",
   "mimetype": "text/x-python",
   "name": "python",
   "nbconvert_exporter": "python",
   "pygments_lexer": "ipython3",
   "version": "3.12.7"
  }
 },
 "nbformat": 4,
 "nbformat_minor": 5
}
