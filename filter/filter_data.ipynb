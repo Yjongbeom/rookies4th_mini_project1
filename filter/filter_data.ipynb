{
 "cells": [
  {
   "cell_type": "markdown",
   "id": "938cce74",
   "metadata": {},
   "source": [
    "# 합친 데이터 필터링"
   ]
  },
  {
   "cell_type": "code",
   "execution_count": 4,
   "id": "59ecc893",
   "metadata": {},
   "outputs": [
    {
     "name": "stdout",
     "output_type": "stream",
     "text": [
      "              게임 이름     원가    할인가  \\\n",
      "0  Dead by Daylight  21500   8600   \n",
      "1        Grounded 2  34800  34800   \n",
      "2      Ready or Not  53000  53000   \n",
      "3              PEAK   8400   8400   \n",
      "4        Mage Arena   3400   3400   \n",
      "\n",
      "                                             사이트 URL   할인율  유저리뷰수 플랫폼 이름  \\\n",
      "0  https://store.steampowered.com/app/381210/Dead...  60.0   9914  Steam   \n",
      "1  https://store.steampowered.com/app/2661300/Gro...   0.0   3012  Steam   \n",
      "2  https://store.steampowered.com/app/1144200/Rea...   0.0  30759  Steam   \n",
      "3   https://store.steampowered.com/app/3527290/PEAK/   0.0  38103  Steam   \n",
      "4  https://store.steampowered.com/app/3716600/Mag...   0.0   3925  Steam   \n",
      "\n",
      "                                             이미지 URL  \\\n",
      "0  https://shared.fastly.steamstatic.com/store_it...   \n",
      "1  https://shared.fastly.steamstatic.com/store_it...   \n",
      "2  https://shared.fastly.steamstatic.com/store_it...   \n",
      "3  https://shared.fastly.steamstatic.com/store_it...   \n",
      "4  https://shared.fastly.steamstatic.com/store_it...   \n",
      "\n",
      "                                장르 연령 등급  \n",
      "0                           Action   NaN  \n",
      "1  Action, Adventure, Early Access   NaN  \n",
      "2         Action, Adventure, Indie   NaN  \n",
      "3         Action, Adventure, Indie   NaN  \n",
      "4             Action, Early Access   NaN  \n"
     ]
    }
   ],
   "source": [
    "import pandas as pd\n",
    "\n",
    "data = f'../data/merged_games_data.csv'\n",
    "\n",
    "df = pd.read_csv(data, encoding='cp949')\n",
    "\n",
    "print(df.head())"
   ]
  },
  {
   "cell_type": "code",
   "execution_count": 6,
   "id": "a4cc6464",
   "metadata": {},
   "outputs": [
    {
     "name": "stdout",
     "output_type": "stream",
     "text": [
      "                 게임 이름      원가    할인가  \\\n",
      "0     Dead by Daylight   21500   8600   \n",
      "1           Grounded 2   34800  34800   \n",
      "2         Ready or Not   53000  53000   \n",
      "3                 PEAK    8400   8400   \n",
      "4           Mage Arena    3400   3400   \n",
      "...                ...     ...    ...   \n",
      "7257    Armored Fist 3   $9.99  $2.50   \n",
      "7259  Worms Armageddon  $14.99  $2.64   \n",
      "7260  F-22 Lightning 3   $9.99  $2.50   \n",
      "7261    MiG-29 Fulcrum   $9.99  $2.50   \n",
      "7262          Quake II   $9.99  $3.40   \n",
      "\n",
      "                                                사이트 URL   할인율  유저리뷰수  \\\n",
      "0     https://store.steampowered.com/app/381210/Dead...  60.0   9914   \n",
      "1     https://store.steampowered.com/app/2661300/Gro...   0.0   3012   \n",
      "2     https://store.steampowered.com/app/1144200/Rea...   0.0  30759   \n",
      "3      https://store.steampowered.com/app/3527290/PEAK/   0.0  38103   \n",
      "4     https://store.steampowered.com/app/3716600/Mag...   0.0   3925   \n",
      "...                                                 ...   ...    ...   \n",
      "7257  https://www.greenmangaming.com/games/armored-f... -75.0      0   \n",
      "7259  https://www.greenmangaming.com/games/worms-arm... -82.0      0   \n",
      "7260  https://www.greenmangaming.com/games/f-22-ligh... -75.0      0   \n",
      "7261  https://www.greenmangaming.com/games/mig-29-fu... -75.0      0   \n",
      "7262  https://www.greenmangaming.com/games/quake-ii-pc/ -66.0      0   \n",
      "\n",
      "                플랫폼 이름                                            이미지 URL  \\\n",
      "0                Steam  https://shared.fastly.steamstatic.com/store_it...   \n",
      "1                Steam  https://shared.fastly.steamstatic.com/store_it...   \n",
      "2                Steam  https://shared.fastly.steamstatic.com/store_it...   \n",
      "3                Steam  https://shared.fastly.steamstatic.com/store_it...   \n",
      "4                Steam  https://shared.fastly.steamstatic.com/store_it...   \n",
      "...                ...                                                ...   \n",
      "7257  Green Man Gaming  https://images.greenmangaming.com/bff321147d01...   \n",
      "7259  Green Man Gaming  https://images.greenmangaming.com/531311aed43a...   \n",
      "7260  Green Man Gaming  https://images.greenmangaming.com/06f6e6ab3ace...   \n",
      "7261  Green Man Gaming  https://images.greenmangaming.com/8d3274d66539...   \n",
      "7262  Green Man Gaming  https://images.greenmangaming.com/165b3327dfb2...   \n",
      "\n",
      "                                   장르    연령 등급  \n",
      "0                              Action      NaN  \n",
      "1     Action, Adventure, Early Access      NaN  \n",
      "2            Action, Adventure, Indie      NaN  \n",
      "3            Action, Adventure, Indie      NaN  \n",
      "4                Action, Early Access      NaN  \n",
      "...                               ...      ...  \n",
      "7257                       Simulation  12세 이용가  \n",
      "7259                         Strategy   전체 이용가  \n",
      "7260                       Simulation   전체 이용가  \n",
      "7261                       Simulation   전체 이용가  \n",
      "7262                           Action      NaN  \n",
      "\n",
      "[5314 rows x 10 columns]\n"
     ]
    }
   ],
   "source": [
    "# 원가, 할인가 비어있으면 제거\n",
    "df = df[~(df['원가'].isnull() | df['할인가'].isnull())]\n",
    "df = df[~((df['원가'].str.strip() == '') | (df['할인가'].str.strip() == ''))]\n",
    "\n",
    "# 장르 비어있으면 제거\n",
    "df = df[~df['장르'].isnull()]\n",
    "df = df[df['장르'].str.strip() != '']\n",
    "\n",
    "print(df)"
   ]
  },
  {
   "cell_type": "code",
   "execution_count": 18,
   "id": "207d18c6",
   "metadata": {},
   "outputs": [],
   "source": [
    "import re\n",
    "\n",
    "def normalize_age_rating(value):\n",
    "    if pd.isna(value):\n",
    "        return '전체 이용가'\n",
    "    \n",
    "    value = str(value)\n",
    "    number = re.search(r'\\d+', value)\n",
    "    if number:\n",
    "        return number.group() + '세 이용가'\n",
    "    else:\n",
    "        return '전체 이용가'"
   ]
  },
  {
   "cell_type": "code",
   "execution_count": 20,
   "id": "b26808c1",
   "metadata": {},
   "outputs": [
    {
     "name": "stdout",
     "output_type": "stream",
     "text": [
      "0        전체 이용가\n",
      "1        전체 이용가\n",
      "2        전체 이용가\n",
      "3        전체 이용가\n",
      "4        전체 이용가\n",
      "         ...   \n",
      "7257    12세 이용가\n",
      "7259     전체 이용가\n",
      "7260     전체 이용가\n",
      "7261     전체 이용가\n",
      "7262     전체 이용가\n",
      "Name: 연령 등급, Length: 5314, dtype: object\n"
     ]
    }
   ],
   "source": [
    "df['연령 등급'] = df['연령 등급'].apply(normalize_age_rating)\n",
    "\n",
    "print(df['연령 등급'])"
   ]
  },
  {
   "cell_type": "code",
   "execution_count": 25,
   "id": "95942725",
   "metadata": {},
   "outputs": [],
   "source": [
    "EXCHANGE_RATE = 1398.94  # 1 USD = 1398.94 KRW\n",
    "\n",
    "def clean_price(value):\n",
    "    if pd.isna(value):\n",
    "        return None\n",
    "\n",
    "    value = str(value).strip()\n",
    "\n",
    "    if value == '' or '무료' in value:\n",
    "        return 0\n",
    "\n",
    "    price_str = re.sub(r'[^\\d.,]', '', value).replace(',', '')\n",
    "\n",
    "    try:\n",
    "        if '.' in price_str:\n",
    "            usd = float(price_str)\n",
    "            return int(round(usd * EXCHANGE_RATE))\n",
    "        else:\n",
    "            return int(price_str)\n",
    "    except:\n",
    "        return None"
   ]
  },
  {
   "cell_type": "code",
   "execution_count": 28,
   "id": "a9197df0",
   "metadata": {},
   "outputs": [
    {
     "name": "stdout",
     "output_type": "stream",
     "text": [
      "              게임 이름     원가    할인가  \\\n",
      "0  Dead by Daylight  21500   8600   \n",
      "1        Grounded 2  34800  34800   \n",
      "2      Ready or Not  53000  53000   \n",
      "3              PEAK   8400   8400   \n",
      "4        Mage Arena   3400   3400   \n",
      "\n",
      "                                             사이트 URL   할인율  유저리뷰수 플랫폼 이름  \\\n",
      "0  https://store.steampowered.com/app/381210/Dead...  60.0   9914  Steam   \n",
      "1  https://store.steampowered.com/app/2661300/Gro...   0.0   3012  Steam   \n",
      "2  https://store.steampowered.com/app/1144200/Rea...   0.0  30759  Steam   \n",
      "3   https://store.steampowered.com/app/3527290/PEAK/   0.0  38103  Steam   \n",
      "4  https://store.steampowered.com/app/3716600/Mag...   0.0   3925  Steam   \n",
      "\n",
      "                                             이미지 URL  \\\n",
      "0  https://shared.fastly.steamstatic.com/store_it...   \n",
      "1  https://shared.fastly.steamstatic.com/store_it...   \n",
      "2  https://shared.fastly.steamstatic.com/store_it...   \n",
      "3  https://shared.fastly.steamstatic.com/store_it...   \n",
      "4  https://shared.fastly.steamstatic.com/store_it...   \n",
      "\n",
      "                                장르   연령 등급  \n",
      "0                           Action  전체 이용가  \n",
      "1  Action, Adventure, Early Access  전체 이용가  \n",
      "2         Action, Adventure, Indie  전체 이용가  \n",
      "3         Action, Adventure, Indie  전체 이용가  \n",
      "4             Action, Early Access  전체 이용가  \n"
     ]
    }
   ],
   "source": [
    "df['원가'] = df['원가'].apply(clean_price)\n",
    "df['할인가'] = df['할인가'].apply(clean_price)\n",
    "\n",
    "df['플랫폼 이름'] = df['플랫폼 이름'].replace({'Epic': 'Epic Games'})\n",
    "\n",
    "df = df.drop_duplicates(subset=['게임 이름', '플랫폼 이름', '사이트 URL'])\n",
    "\n",
    "df['할인율'] = df['할인율'].astype(str).str.replace('-', '', regex=False)\n",
    "\n",
    "df.to_csv('../data/cleaned_merged_games_data.csv', index=False, encoding='utf-8')\n",
    "\n",
    "print(df.head())"
   ]
  },
  {
   "cell_type": "code",
   "execution_count": null,
   "id": "b3255d25",
   "metadata": {},
   "outputs": [],
   "source": []
  }
 ],
 "metadata": {
  "kernelspec": {
   "display_name": "base",
   "language": "python",
   "name": "python3"
  },
  "language_info": {
   "codemirror_mode": {
    "name": "ipython",
    "version": 3
   },
   "file_extension": ".py",
   "mimetype": "text/x-python",
   "name": "python",
   "nbconvert_exporter": "python",
   "pygments_lexer": "ipython3",
   "version": "3.12.7"
  }
 },
 "nbformat": 4,
 "nbformat_minor": 5
}
